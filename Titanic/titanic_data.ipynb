{
  "cells": [
    {
      "metadata": {
        "_cell_guid": "b1076dfc-b9ad-4769-8c92-a6c4dae69d19",
        "_uuid": "8f2839f25d086af736a60e9eeb907d3b93b6e0e5",
        "collapsed": true,
        "trusted": false
      },
      "cell_type": "code",
      "source": "import os\nimport numpy as np\nimport pandas as pd \nimport seaborn as sns\nimport matplotlib.pyplot as plt\nfrom sklearn.ensemble import RandomForestClassifier\nfrom sklearn.ensemble import AdaBoostClassifier\nfrom sklearn.linear_model import LogisticRegression\nfrom sklearn.tree import DecisionTreeClassifier\nfrom sklearn.discriminant_analysis import LinearDiscriminantAnalysis\nfrom sklearn.svm import SVC, LinearSVC\nfrom sklearn.neighbors import KNeighborsClassifier\nfrom sklearn.naive_bayes import GaussianNB\nfrom sklearn.model_selection import train_test_split\nfrom sklearn.model_selection import cross_val_score\nfrom sklearn import model_selection\nfrom sklearn.metrics import accuracy_score",
      "execution_count": null,
      "outputs": []
    },
    {
      "metadata": {
        "_cell_guid": "79c7e3d0-c299-4dcb-8224-4455121ee9b0",
        "_uuid": "d629ff2d2480ee46fbb7e2d37f6b5fab8052498a",
        "trusted": false,
        "collapsed": true
      },
      "cell_type": "code",
      "source": "train = pd.read_csv(\"../input/train.csv\")\ntest = pd.read_csv(\"../input/test.csv\")\n#train.shape\n#test.shape\ntrain.head().T",
      "execution_count": null,
      "outputs": []
    },
    {
      "metadata": {
        "_cell_guid": "63924573-0cf8-41a4-b643-f0fdd42d89b3",
        "_uuid": "6411d65952f4f7ad7137a1eff6c005f35cd57654",
        "trusted": false,
        "collapsed": true
      },
      "cell_type": "code",
      "source": "#train.columns\ntrain.info()",
      "execution_count": null,
      "outputs": []
    },
    {
      "metadata": {
        "_cell_guid": "3c1d28ca-b212-452b-88ad-a8f4124ec1c3",
        "_uuid": "fc67e992bbf13cdb300c7a3f070584bd2caf4941",
        "collapsed": true,
        "trusted": false
      },
      "cell_type": "code",
      "source": "#lets drop some features\ndrop_features = ['Name', 'Ticket']\ntrain = train.drop(drop_features, axis = 1)\ntest = test.drop(drop_features, axis = 1)\n",
      "execution_count": null,
      "outputs": []
    },
    {
      "metadata": {
        "_cell_guid": "5d3b4aba-93ff-4df7-bc5d-5c0b6b7b6ca3",
        "_uuid": "1aedb7b6858131dc136d8bf939dc92afdf914e42",
        "trusted": false,
        "collapsed": true
      },
      "cell_type": "code",
      "source": "train.columns",
      "execution_count": null,
      "outputs": []
    },
    {
      "metadata": {
        "_cell_guid": "ae937962-635d-45ef-86a6-66d0a7fe6fb1",
        "_uuid": "c10f607e6b7534396da7d3bb6491da41b003ba01",
        "trusted": false,
        "collapsed": true
      },
      "cell_type": "code",
      "source": "train.isnull().sum()\ntrain.Embarked.value_counts()",
      "execution_count": null,
      "outputs": []
    },
    {
      "metadata": {
        "_cell_guid": "37fa300f-2cfc-47ef-823e-283ff0e3d105",
        "_uuid": "569ad5b5e59c065b2047514baa01c9e6ad6a7518",
        "trusted": false,
        "collapsed": true
      },
      "cell_type": "code",
      "source": "#Since there are only 2 missing Embarked columns. Lets fill it with the most occuring value\ntrain[\"Embarked\"] = train[\"Embarked\"].fillna('S')\nsns.factorplot(\"Embarked\", 'Survived', data = train, figsize = (10,10));",
      "execution_count": null,
      "outputs": []
    },
    {
      "metadata": {
        "_cell_guid": "3856d86d-3137-445a-8fcf-26e7fbeee6b7",
        "_uuid": "654dd4190c303b5320b76ef5a2632e0749353094",
        "trusted": false,
        "collapsed": true
      },
      "cell_type": "code",
      "source": "fig, (axis1, axis2, axis3 ) = plt.subplots(1,3, figsize=(15,5))\n\nsns.countplot(x='Embarked', data = train, ax = axis1)\nsns.countplot(x = 'Survived', hue = 'Embarked', data = train, ax = axis2);\n# looks like a lot of people from 'S' survived, but also the count who got in\n# lets check the percentage of survived with respect to Embarked to get a batter idea\n\nemb_perc = train[['Embarked', 'Survived']].groupby(['Embarked'], as_index = False).mean()\n#emb_perc.head()\nsns.barplot(x='Embarked', y = 'Survived', data = emb_perc, order = ['S','C','Q'], ax = axis3);\n\nembark_dummies_train  = pd.get_dummies(train['Embarked'])\nembark_dummies_train.drop(['S'], axis=1, inplace=True)\n\nembark_dummies_test  = pd.get_dummies(test['Embarked'])\nembark_dummies_test.drop(['S'], axis=1, inplace=True)\n\ntrain = train.join(embark_dummies_train)\ntest = test.join(embark_dummies_test)\n\ntrain.drop(['Embarked'], axis=1,inplace=True)\ntest.drop(['Embarked'], axis=1,inplace=True)",
      "execution_count": null,
      "outputs": []
    },
    {
      "metadata": {
        "_cell_guid": "aafa2f06-52df-43d6-a85b-bac4b94d823d",
        "_uuid": "4080d61ff9d6e163474771a0915a7fdbdf1ecb03"
      },
      "cell_type": "markdown",
      "source": "More than 50% of people from 'C' survived!.\nWe can draw hypothesis from here, it is likely that more  Upper fare tickets boarded titanic from 'C' and also likely that 'S' has more Lower fare tickets  \n\nMoving on, Lets check with fare and then decide if we should consider \"Embarked\" or not"
    },
    {
      "metadata": {
        "_cell_guid": "5cdabc19-46ed-4f13-a719-59b29a3bd1fb",
        "_uuid": "508bff95e6b41c88a7b17a6eb96ead3b8ff17d9c",
        "trusted": false,
        "collapsed": true
      },
      "cell_type": "code",
      "source": "#train.Fare.isnull().sum()\n#test.Fare.isnull().sum()\ntest.Fare.fillna(test.Fare.median(), inplace = True)\n\n#sns.distplot(train['Fare'], bins = 25,kde = False );\ntrain['Fare'].plot(kind='hist', figsize=(15,3),bins=100, xlim=(0,100))\n\nfare_survived = train['Fare'][train['Survived'] == 1]\nfare_not_survived = train['Fare'][train['Survived'] == 0]\n\navg_fare = pd.DataFrame([fare_not_survived.mean(), fare_survived.mean()])\nstd_fare = pd.DataFrame([fare_not_survived.std(), fare_survived.std()])\n\navg_fare.index.names = std_fare.index.names = [\"Survived\"]\navg_fare.plot(yerr=std_fare,kind='bar', legend = False)",
      "execution_count": null,
      "outputs": []
    },
    {
      "metadata": {
        "_cell_guid": "daefae66-46d3-4d24-8c43-8eae4048b0d6",
        "_uuid": "68b83eba3b0746b28d3f7038f4dda6835b75a551"
      },
      "cell_type": "markdown",
      "source": "Age is an important factor in predicting, but a lot Age values are missing from the training data."
    },
    {
      "metadata": {
        "_cell_guid": "8c24b518-4a74-4ea5-a096-01069c3688fc",
        "_uuid": "41aeceb16354004e3c9cdfe8f46beba1f4801977",
        "trusted": false,
        "collapsed": true
      },
      "cell_type": "code",
      "source": "#train.Age.describe()\ntrain_age_nancount = train[\"Age\"].isnull().sum() #177 missing values\ntest_age_nancount = test[\"Age\"].isnull().sum() #86 missing values\n\navg_age_titanic = train.Age.mean()\nstd_age_titanic = train.Age.std()\n\navg_age_test = test.Age.mean()\nstd_age_test = test.Age.std()\n\nrandom_age = np.random.randint(avg_age_titanic - std_age_titanic, avg_age_titanic + std_age_titanic, size = train_age_nancount)\nrandom_age_test = np.random.randint(avg_age_test - std_age_test, avg_age_test + std_age_test, size = test_age_nancount)\n\n#as above dtypes Age is Float here, lets convert to int \n#lets also check if age is being predicted well by comparing the before and after age imputations \n\nfig, (axis1, axis2) = plt.subplots(1,2, figsize = (15,5))\n\n# we are more concerned about the distribution of age here\n\ntrain['Age'].dropna().astype(int).hist(bins=70, ax=axis1)\n\ntrain['Age'][np.isnan(train[\"Age\"])] = random_age\ntrain[\"Age\"] = train[\"Age\"].astype(int)\n\ntest[\"Age\"][np.isnan(test['Age'])] = random_age_test\ntest[\"Age\"] = test[\"Age\"].astype(int)\n\ntrain[\"Age\"].hist(bins = 70, ax = axis2)\naxis1.set_title = (\"original age values\")\naxis2.set_title = (\"age values after imputing\")",
      "execution_count": null,
      "outputs": []
    },
    {
      "metadata": {
        "_cell_guid": "7f024e38-c275-42c0-9ca1-cb3b28343a72",
        "_uuid": "4ccfb468c4216f89de1f56f96d353b7e176a686b",
        "trusted": false,
        "collapsed": true
      },
      "cell_type": "code",
      "source": "facet = sns.FacetGrid(train, hue ='Survived', aspect = 5)\nfacet.map(sns.kdeplot, 'Age', shade = True)\nfacet.set(xlim = (0, train['Age'].max()))\nfacet.add_legend()",
      "execution_count": null,
      "outputs": []
    },
    {
      "metadata": {
        "_cell_guid": "f3653e08-9270-46bb-aad0-8a722a5b7f70",
        "_uuid": "f12aabc7f046581965e6f6475beb15960fbc4014",
        "trusted": false,
        "collapsed": true
      },
      "cell_type": "code",
      "source": "fig, axis = plt.subplots(1,1, figsize = (20,8))\navg_age = train[[\"Age\",\"Survived\"]].groupby(['Age'], as_index = False).mean()\nsns.barplot(x = 'Age', y = 'Survived', data = avg_age);",
      "execution_count": null,
      "outputs": []
    },
    {
      "metadata": {
        "_cell_guid": "9a55bb86-25d3-4742-bb9b-78ad61981773",
        "_uuid": "2635dc7f46161503d32d49b905154448f037a794",
        "trusted": false,
        "collapsed": true
      },
      "cell_type": "code",
      "source": "print(train.columns)\ntrain.Cabin.unique()",
      "execution_count": null,
      "outputs": []
    },
    {
      "metadata": {
        "_cell_guid": "da10722e-3e3d-4d3b-9023-4b0a4f889e00",
        "_uuid": "cba5c918dc94a99aaa57b2c9182cb6340f8cb9e6"
      },
      "cell_type": "markdown",
      "source": "Cabins also have a lot of misssing values, also it is correlated to fares, so we can skip this feature"
    },
    {
      "metadata": {
        "_cell_guid": "6a0929c9-8553-4d84-8adf-4ec2f3383a49",
        "_uuid": "4820aefbcfec3bbefaaac023dbeb17d9fe028c00",
        "collapsed": true,
        "trusted": false
      },
      "cell_type": "code",
      "source": "train.drop(\"Cabin\", axis = 1, inplace = True)\ntest.drop(\"Cabin\", axis = 1, inplace = True)",
      "execution_count": null,
      "outputs": []
    },
    {
      "metadata": {
        "_cell_guid": "f85225ca-f02b-4f67-8848-b18ecbc57082",
        "_uuid": "00f76426050f1f02568e24045edcb6298ae7b124",
        "trusted": false,
        "collapsed": true
      },
      "cell_type": "code",
      "source": "#coming to PClass\n\nsns.factorplot(\"Pclass\",\"Survived\", data = train);\n#Pclass =3 has the worst survival rate\n\n# create dummy variables for Pclass column, & drop 3rd class as it has the lowest average of survived passengers\npclass_dummies_titanic  = pd.get_dummies(train['Pclass'])\npclass_dummies_titanic.columns = ['Class_1','Class_2','Class_3']\npclass_dummies_titanic.drop(['Class_3'], axis=1, inplace=True)\n\npclass_dummies_test  = pd.get_dummies(test['Pclass'])\npclass_dummies_test.columns = ['Class_1','Class_2','Class_3']\npclass_dummies_test.drop(['Class_3'], axis=1, inplace=True)\n\ntrain.drop(['Pclass'],axis=1,inplace=True)\ntest.drop(['Pclass'],axis=1,inplace=True)\n\ntrain = train.join(pclass_dummies_titanic)\ntest = test.join(pclass_dummies_test)",
      "execution_count": null,
      "outputs": []
    },
    {
      "metadata": {
        "_cell_guid": "0a30b156-de5f-4994-9a07-1849e671bec1",
        "_uuid": "667f6804f8af4647445369a29e5c33f2ad7a7db7",
        "trusted": false,
        "collapsed": true
      },
      "cell_type": "code",
      "source": "#We can combine Sibsp and Parch into one feature, \ntrain['Familysize'] = train['Parch'] + train[\"SibSp\"]\ntest['Familysize'] = test['Parch'] + test[\"SibSp\"]\n\ntrain[\"Familysize\"].value_counts()\n\ntrain.loc[train[\"Familysize\"] == 0 , 'Fsize'] = 'single'\ntrain.loc[(train[\"Familysize\"] > 1)  &  (train[\"Familysize\"] < 5) , \"Fsize\"] = 'small'\ntrain.loc[train[\"Familysize\"] >4, \"Fsize\"] = 'large'\n\ntest.loc[test['Familysize'] == 0,'Fsize'] = 'single'\ntest.loc[(test[\"Familysize\"] > 1) & (train[\"Familysize\"] < 5) , 'Fsize'] = 'small'\ntest.loc[test['Familysize'] > 4, 'Fsize'] = 'large'\n\n\nsns.factorplot(x = 'Fsize', y =\"Survived\", data = train)\n",
      "execution_count": null,
      "outputs": []
    },
    {
      "metadata": {
        "_cell_guid": "ed323850-049a-4b19-92c5-14e4262af25f",
        "_uuid": "49861769f1935a7983f8678aad3647941a357a14",
        "collapsed": true,
        "trusted": false
      },
      "cell_type": "code",
      "source": "#large families have less percentage of survival and hence we can drop them using dummies\n\nfamily_dummies_train = pd.get_dummies(train['Fsize'])\nfamily_dummies_train.columns = ['single', 'small', 'large']\nfamily_dummies_train.drop('large', axis = 1, inplace = True)\n\nfamily_dummies_test = pd.get_dummies(test[\"Fsize\"])\nfamily_dummies_test.columns = ['single','small','large']\nfamily_dummies_test.drop('large', axis = 1, inplace = True)\n\ntrain.drop('Fsize', axis = 1, inplace = True)\ntest.drop(\"Fsize\", axis = 1, inplace = True)\n\ntrain = train.join(family_dummies_train)\ntest = test.join(family_dummies_test)",
      "execution_count": null,
      "outputs": []
    },
    {
      "metadata": {
        "_cell_guid": "580d4379-4d3b-43fb-a32d-a0eeee513060",
        "_uuid": "09f2ef06ecf1d2666d13735573e0c0548d5ae9a0",
        "trusted": false,
        "collapsed": true
      },
      "cell_type": "code",
      "source": "train.columns",
      "execution_count": null,
      "outputs": []
    },
    {
      "metadata": {
        "_cell_guid": "cb372a10-ec4e-4620-bd62-e447f580581d",
        "_uuid": "2c2402c946bdd1fcad9209f5ad3480ca95ba7692",
        "collapsed": true,
        "trusted": false
      },
      "cell_type": "code",
      "source": "#drop Parch, SibSp, Familysize\ntrain.drop('Parch', axis = 1, inplace = True)\ntest.drop('Parch', axis = 1, inplace = True)\n\ntrain.drop(\"SibSp\", axis = 1, inplace = True)\ntest.drop(\"SibSp\", axis = 1, inplace = True)\n\ntrain.drop(\"Familysize\", axis = 1, inplace = True)\ntest.drop(\"Familysize\", axis = 1, inplace = True)",
      "execution_count": null,
      "outputs": []
    },
    {
      "metadata": {
        "_cell_guid": "d416e9ee-7588-443f-9105-4915623f1c8d",
        "_uuid": "46db0cd6f59a704099b817c3d034651b758fdb3b",
        "trusted": false,
        "collapsed": true
      },
      "cell_type": "code",
      "source": "train.columns",
      "execution_count": null,
      "outputs": []
    },
    {
      "metadata": {
        "_cell_guid": "ef1dab1e-0c98-4b27-afad-91255359d515",
        "_uuid": "284264891002cb93605ee61964548b9271733f36",
        "trusted": false,
        "collapsed": true
      },
      "cell_type": "code",
      "source": "#Sex plays a very important role here, \n#we saw from the graph that children 15 and below had higher chances of survival, so lets get them into another category\ndef sort_person(person):\n    Age, Sex = person\n    return 'child' if Age < 16 else Sex\ntrain['Person']  = train[['Age', 'Sex']].apply(sort_person, axis = 1)\ntest['Person'] = train[['Age', 'Sex']].apply(sort_person, axis = 1)\n\ntrain.drop(['Sex'],axis=1,inplace=True)\ntest.drop(['Sex'],axis=1,inplace=True)\n\n\nperson_dummies_train  = pd.get_dummies(train['Person'])\nperson_dummies_train.columns = ['Child','Female','Male']\nperson_dummies_train.drop(['Male'], axis=1, inplace=True)\n\nperson_dummies_test  = pd.get_dummies(test['Person'])\nperson_dummies_test.columns = ['Child','Female','Male']\nperson_dummies_test.drop(['Male'], axis=1, inplace=True)\n\ntrain = train.join(person_dummies_train)\ntest    = test.join(person_dummies_test)\n\nfig, (axis1,axis2) = plt.subplots(1,2,figsize=(10,5))\n\nsns.countplot(x='Person', data=train, ax=axis1)\n\n# average of survived for each Person(male, female, or child)\nperson_perc = train[[\"Person\", \"Survived\"]].groupby(['Person'],as_index=False).mean()\nsns.barplot(x='Person', y='Survived', data=person_perc, ax=axis2, order=['male','female','child'])\n\ntrain.drop(['Person'],axis=1,inplace=True)\ntest.drop(['Person'],axis=1,inplace=True)",
      "execution_count": null,
      "outputs": []
    },
    {
      "metadata": {
        "_cell_guid": "a9536613-cc95-4bfe-b6db-7af84dbdfa17",
        "_uuid": "3eb8ab807b5b22d95c6fd474ec25457517c6c789",
        "trusted": false,
        "collapsed": true
      },
      "cell_type": "code",
      "source": "test.columns",
      "execution_count": null,
      "outputs": []
    },
    {
      "metadata": {
        "_cell_guid": "b0c519c6-fe3e-4c08-8bb8-052a3fb96b47",
        "_uuid": "1496f31018cc576537b1cb318babd871c650d5e4",
        "collapsed": true
      },
      "cell_type": "markdown",
      "source": "It is proved in another hypothesis that Rich people in early 20th century have long names, and hence higher class and hence better chance of survival, but since we are already considering Fare, Pclass. It maybe safe to drop name too. "
    },
    {
      "metadata": {
        "_cell_guid": "8ae52744-04cd-4542-a805-2fb00a75bb39",
        "_uuid": "a3421b213603fb7c18ca18ae9416b23aa09a958c"
      },
      "cell_type": "markdown",
      "source": "Now, we have created the data we want, lets build some models and see how they perform \n"
    },
    {
      "metadata": {
        "_cell_guid": "fc13922b-9784-4b64-af29-682eeadde080",
        "_uuid": "351b819312a5f4367485ed44f8a6e72d4b2d9ee5",
        "trusted": false,
        "collapsed": true
      },
      "cell_type": "code",
      "source": "train.columns",
      "execution_count": null,
      "outputs": []
    },
    {
      "metadata": {
        "_cell_guid": "2269761b-ec80-48e7-9efc-23d1350a218a",
        "_uuid": "7ed9a239737214c7003046169568934ebfb2756d",
        "collapsed": true,
        "trusted": false
      },
      "cell_type": "code",
      "source": "feature_cols = ['Age', 'Fare', 'C', 'Q', 'Class_1','Class_2', 'single', 'small', 'Child', 'Female']\nX_for_training = train[feature_cols]\ny_for_training = train['Survived']\nX_test = test [feature_cols]\n\nX_train, X_test, y_train, y_test = train_test_split(X_for_training, y_for_training, test_size=0.3,random_state=0)\n",
      "execution_count": null,
      "outputs": []
    },
    {
      "metadata": {
        "_cell_guid": "ce2795c8-337b-4415-844b-72a8b35d8d4c",
        "_uuid": "a1a6d1e45e606a87ba3a1410669ad61c94bcfb80",
        "collapsed": true,
        "trusted": false
      },
      "cell_type": "code",
      "source": "models = []\nmodels.append(('LR', LogisticRegression()))\nmodels.append(('LDA', LinearDiscriminantAnalysis()))\nmodels.append(('KNN', KNeighborsClassifier()))\nmodels.append(('CART', DecisionTreeClassifier()))\nmodels.append(('NB', GaussianNB()))\nmodels.append(('SVM', SVC()))\nmodels.append(('LSVC', LinearSVC()))\nmodels.append(('RFC', RandomForestClassifier()))\nmodels.append(('ADB', AdaBoostClassifier()))",
      "execution_count": null,
      "outputs": []
    },
    {
      "metadata": {
        "_cell_guid": "c34fd0b6-85b4-4fd8-9998-bcbe4a25bc57",
        "_uuid": "31c12e9392ff697c95e9bac4b967f8dc1b71cc66",
        "trusted": false,
        "collapsed": true
      },
      "cell_type": "code",
      "source": "'''\nresults = []\nnames = []\nfinal =[]\n#print (models)\nfor name, model in models:\n    mod = model\n    mod.fit(X_train,y_train)\n    predictions = mod.predict(X_test)\n    zing = accuracy_score(y_test, predictions)\n    cv_results = cross_val_score(mod, X_for_training, y_for_training, cv= 10)\n    final.append((name, zing))\n\n    msg = \"%s: = 'mean: '%f, 'std:' %f, 'acc:' %f \" % (name, cv_results.mean(), cv_results.std(), zing)\n    print(msg)\n    \n    '''",
      "execution_count": null,
      "outputs": []
    },
    {
      "metadata": {
        "_cell_guid": "012c2955-ceb1-4d63-bb29-140f9a636451",
        "_uuid": "6481b7e0970a42a4219bb4f14cf51641066c5d4f",
        "collapsed": true,
        "trusted": false
      },
      "cell_type": "code",
      "source": "lr = LogisticRegression()\nlr.fit(X_train,y_train)\npredictions = lr.predict(X_test)\ncv_results = cross_val_score(mod, X_for_training, y_for_training, cv= 10)\nzing = accuracy_score(y_test, predictions)\n",
      "execution_count": null,
      "outputs": []
    },
    {
      "metadata": {
        "_cell_guid": "08bce4d3-fe19-48e5-b800-1b831fe26faa",
        "_uuid": "eb89c6085d2f83806ffd7d3009955df1871dbb94",
        "collapsed": true,
        "trusted": false
      },
      "cell_type": "code",
      "source": "submission = pd.DataFrame({\n        \"PassengerId\": test[\"PassengerId\"],\n        \"Survived\": zing\n    })\nsubmission.to_csv('titanic.csv', index=False)",
      "execution_count": null,
      "outputs": []
    },
    {
      "metadata": {
        "_cell_guid": "ed23c597-b9af-405c-85e0-780745370a0e",
        "_uuid": "68e3bbe9aefd173bb9c457f614a15aedb4ff140d",
        "collapsed": true,
        "trusted": false
      },
      "cell_type": "code",
      "source": "",
      "execution_count": null,
      "outputs": []
    }
  ],
  "metadata": {
    "kernelspec": {
      "display_name": "Python 3",
      "language": "python",
      "name": "python3"
    },
    "language_info": {
      "pygments_lexer": "ipython3",
      "mimetype": "text/x-python",
      "name": "python",
      "codemirror_mode": {
        "name": "ipython",
        "version": 3
      },
      "file_extension": ".py",
      "nbconvert_exporter": "python",
      "version": "3.6.4"
    }
  },
  "nbformat": 4,
  "nbformat_minor": 1
}